{
 "cells": [
  {
   "cell_type": "code",
   "execution_count": 1,
   "metadata": {},
   "outputs": [],
   "source": [
    "from fastai.vision import *\n",
    "from fastai.callbacks import *"
   ]
  },
  {
   "cell_type": "code",
   "execution_count": 2,
   "metadata": {},
   "outputs": [],
   "source": [
    "import torch\n",
    "import torch.nn as nn\n",
    "import torch.nn.functional as F\n",
    "import torchvision"
   ]
  },
  {
   "cell_type": "code",
   "execution_count": 3,
   "metadata": {},
   "outputs": [],
   "source": [
    "import sys\n",
    "sys.path.append('../')\n",
    "\n",
    "from fasterai.bn_folder import *"
   ]
  },
  {
   "cell_type": "code",
   "execution_count": 4,
   "metadata": {
    "scrolled": true
   },
   "outputs": [],
   "source": [
    "path = untar_data(URLs.IMAGENETTE_160)"
   ]
  },
  {
   "cell_type": "code",
   "execution_count": 5,
   "metadata": {},
   "outputs": [],
   "source": [
    "data = (ImageList.from_folder(path)\n",
    "                .split_by_folder(train='train', valid='val')\n",
    "                .label_from_folder()\n",
    "                .transform(get_transforms(), size=128)\n",
    "                .databunch(bs=64)\n",
    "                .normalize(imagenet_stats))"
   ]
  },
  {
   "cell_type": "code",
   "execution_count": 6,
   "metadata": {},
   "outputs": [],
   "source": [
    "def count_parameters(model):\n",
    "    num_params = sum(p.numel() for p in model.parameters() if p.requires_grad)\n",
    "    print(f'Total parameters : {num_params:,}' )"
   ]
  },
  {
   "cell_type": "markdown",
   "metadata": {},
   "source": [
    "## VGG16"
   ]
  },
  {
   "cell_type": "code",
   "execution_count": 7,
   "metadata": {},
   "outputs": [],
   "source": [
    "learn = Learner(data, models.vgg16_bn(num_classes=10), metrics=[accuracy])"
   ]
  },
  {
   "cell_type": "code",
   "execution_count": 9,
   "metadata": {},
   "outputs": [
    {
     "data": {
      "text/html": [
       "<table border=\"1\" class=\"dataframe\">\n",
       "  <thead>\n",
       "    <tr style=\"text-align: left;\">\n",
       "      <th>epoch</th>\n",
       "      <th>train_loss</th>\n",
       "      <th>valid_loss</th>\n",
       "      <th>accuracy</th>\n",
       "      <th>time</th>\n",
       "    </tr>\n",
       "  </thead>\n",
       "  <tbody>\n",
       "    <tr>\n",
       "      <td>0</td>\n",
       "      <td>1.972840</td>\n",
       "      <td>2.065817</td>\n",
       "      <td>0.362803</td>\n",
       "      <td>00:31</td>\n",
       "    </tr>\n",
       "    <tr>\n",
       "      <td>1</td>\n",
       "      <td>1.858230</td>\n",
       "      <td>1.861822</td>\n",
       "      <td>0.368408</td>\n",
       "      <td>00:31</td>\n",
       "    </tr>\n",
       "    <tr>\n",
       "      <td>2</td>\n",
       "      <td>1.499569</td>\n",
       "      <td>1.655234</td>\n",
       "      <td>0.482803</td>\n",
       "      <td>00:31</td>\n",
       "    </tr>\n",
       "    <tr>\n",
       "      <td>3</td>\n",
       "      <td>1.271293</td>\n",
       "      <td>1.074006</td>\n",
       "      <td>0.650955</td>\n",
       "      <td>00:31</td>\n",
       "    </tr>\n",
       "    <tr>\n",
       "      <td>4</td>\n",
       "      <td>1.051444</td>\n",
       "      <td>0.927527</td>\n",
       "      <td>0.690701</td>\n",
       "      <td>00:31</td>\n",
       "    </tr>\n",
       "  </tbody>\n",
       "</table>"
      ],
      "text/plain": [
       "<IPython.core.display.HTML object>"
      ]
     },
     "metadata": {},
     "output_type": "display_data"
    }
   ],
   "source": [
    "learn.fit_one_cycle(5, 1e-3)"
   ]
  },
  {
   "cell_type": "code",
   "execution_count": 10,
   "metadata": {},
   "outputs": [
    {
     "data": {
      "text/html": [],
      "text/plain": [
       "<IPython.core.display.HTML object>"
      ]
     },
     "metadata": {},
     "output_type": "display_data"
    },
    {
     "data": {
      "text/plain": [
       "[0.9275266, tensor(0.6907)]"
      ]
     },
     "execution_count": 10,
     "metadata": {},
     "output_type": "execute_result"
    }
   ],
   "source": [
    "learn.validate()"
   ]
  },
  {
   "cell_type": "code",
   "execution_count": 11,
   "metadata": {},
   "outputs": [],
   "source": [
    "model = learn.model.eval()"
   ]
  },
  {
   "cell_type": "code",
   "execution_count": 12,
   "metadata": {},
   "outputs": [],
   "source": [
    "x,y = data.one_batch()"
   ]
  },
  {
   "cell_type": "code",
   "execution_count": 13,
   "metadata": {},
   "outputs": [
    {
     "name": "stdout",
     "output_type": "stream",
     "text": [
      "2.86 ms ± 326 µs per loop (mean ± std. dev. of 7 runs, 100 loops each)\n"
     ]
    }
   ],
   "source": [
    "%%timeit\n",
    "model(x[0][None].cuda())"
   ]
  },
  {
   "cell_type": "code",
   "execution_count": 14,
   "metadata": {},
   "outputs": [
    {
     "data": {
      "text/plain": [
       "VGG\n",
       "======================================================================\n",
       "Layer (type)         Output Shape         Param #    Trainable \n",
       "======================================================================\n",
       "Conv2d               [64, 128, 128]       1,792      True      \n",
       "______________________________________________________________________\n",
       "BatchNorm2d          [64, 128, 128]       128        True      \n",
       "______________________________________________________________________\n",
       "ReLU                 [64, 128, 128]       0          False     \n",
       "______________________________________________________________________\n",
       "Conv2d               [64, 128, 128]       36,928     True      \n",
       "______________________________________________________________________\n",
       "BatchNorm2d          [64, 128, 128]       128        True      \n",
       "______________________________________________________________________\n",
       "ReLU                 [64, 128, 128]       0          False     \n",
       "______________________________________________________________________\n",
       "MaxPool2d            [64, 64, 64]         0          False     \n",
       "______________________________________________________________________\n",
       "Conv2d               [128, 64, 64]        73,856     True      \n",
       "______________________________________________________________________\n",
       "BatchNorm2d          [128, 64, 64]        256        True      \n",
       "______________________________________________________________________\n",
       "ReLU                 [128, 64, 64]        0          False     \n",
       "______________________________________________________________________\n",
       "Conv2d               [128, 64, 64]        147,584    True      \n",
       "______________________________________________________________________\n",
       "BatchNorm2d          [128, 64, 64]        256        True      \n",
       "______________________________________________________________________\n",
       "ReLU                 [128, 64, 64]        0          False     \n",
       "______________________________________________________________________\n",
       "MaxPool2d            [128, 32, 32]        0          False     \n",
       "______________________________________________________________________\n",
       "Conv2d               [256, 32, 32]        295,168    True      \n",
       "______________________________________________________________________\n",
       "BatchNorm2d          [256, 32, 32]        512        True      \n",
       "______________________________________________________________________\n",
       "ReLU                 [256, 32, 32]        0          False     \n",
       "______________________________________________________________________\n",
       "Conv2d               [256, 32, 32]        590,080    True      \n",
       "______________________________________________________________________\n",
       "BatchNorm2d          [256, 32, 32]        512        True      \n",
       "______________________________________________________________________\n",
       "ReLU                 [256, 32, 32]        0          False     \n",
       "______________________________________________________________________\n",
       "Conv2d               [256, 32, 32]        590,080    True      \n",
       "______________________________________________________________________\n",
       "BatchNorm2d          [256, 32, 32]        512        True      \n",
       "______________________________________________________________________\n",
       "ReLU                 [256, 32, 32]        0          False     \n",
       "______________________________________________________________________\n",
       "MaxPool2d            [256, 16, 16]        0          False     \n",
       "______________________________________________________________________\n",
       "Conv2d               [512, 16, 16]        1,180,160  True      \n",
       "______________________________________________________________________\n",
       "BatchNorm2d          [512, 16, 16]        1,024      True      \n",
       "______________________________________________________________________\n",
       "ReLU                 [512, 16, 16]        0          False     \n",
       "______________________________________________________________________\n",
       "Conv2d               [512, 16, 16]        2,359,808  True      \n",
       "______________________________________________________________________\n",
       "BatchNorm2d          [512, 16, 16]        1,024      True      \n",
       "______________________________________________________________________\n",
       "ReLU                 [512, 16, 16]        0          False     \n",
       "______________________________________________________________________\n",
       "Conv2d               [512, 16, 16]        2,359,808  True      \n",
       "______________________________________________________________________\n",
       "BatchNorm2d          [512, 16, 16]        1,024      True      \n",
       "______________________________________________________________________\n",
       "ReLU                 [512, 16, 16]        0          False     \n",
       "______________________________________________________________________\n",
       "MaxPool2d            [512, 8, 8]          0          False     \n",
       "______________________________________________________________________\n",
       "Conv2d               [512, 8, 8]          2,359,808  True      \n",
       "______________________________________________________________________\n",
       "BatchNorm2d          [512, 8, 8]          1,024      True      \n",
       "______________________________________________________________________\n",
       "ReLU                 [512, 8, 8]          0          False     \n",
       "______________________________________________________________________\n",
       "Conv2d               [512, 8, 8]          2,359,808  True      \n",
       "______________________________________________________________________\n",
       "BatchNorm2d          [512, 8, 8]          1,024      True      \n",
       "______________________________________________________________________\n",
       "ReLU                 [512, 8, 8]          0          False     \n",
       "______________________________________________________________________\n",
       "Conv2d               [512, 8, 8]          2,359,808  True      \n",
       "______________________________________________________________________\n",
       "BatchNorm2d          [512, 8, 8]          1,024      True      \n",
       "______________________________________________________________________\n",
       "ReLU                 [512, 8, 8]          0          False     \n",
       "______________________________________________________________________\n",
       "MaxPool2d            [512, 4, 4]          0          False     \n",
       "______________________________________________________________________\n",
       "AdaptiveAvgPool2d    [512, 7, 7]          0          False     \n",
       "______________________________________________________________________\n",
       "Linear               [4096]               102,764,544 True      \n",
       "______________________________________________________________________\n",
       "ReLU                 [4096]               0          False     \n",
       "______________________________________________________________________\n",
       "Dropout              [4096]               0          False     \n",
       "______________________________________________________________________\n",
       "Linear               [4096]               16,781,312 True      \n",
       "______________________________________________________________________\n",
       "ReLU                 [4096]               0          False     \n",
       "______________________________________________________________________\n",
       "Dropout              [4096]               0          False     \n",
       "______________________________________________________________________\n",
       "Linear               [10]                 40,970     True      \n",
       "______________________________________________________________________\n",
       "\n",
       "Total params: 134,309,962\n",
       "Total trainable params: 134,309,962\n",
       "Total non-trainable params: 0\n",
       "Optimized with 'torch.optim.adam.Adam', betas=(0.9, 0.99)\n",
       "Using true weight decay as discussed in https://www.fast.ai/2018/07/02/adam-weight-decay/ \n",
       "Loss function : FlattenedLoss\n",
       "======================================================================\n",
       "Callbacks functions applied "
      ]
     },
     "execution_count": 14,
     "metadata": {},
     "output_type": "execute_result"
    }
   ],
   "source": [
    "learn.summary()"
   ]
  },
  {
   "cell_type": "code",
   "execution_count": 15,
   "metadata": {},
   "outputs": [
    {
     "name": "stdout",
     "output_type": "stream",
     "text": [
      "Total parameters : 134,309,962\n"
     ]
    }
   ],
   "source": [
    "count_parameters(model)"
   ]
  },
  {
   "cell_type": "code",
   "execution_count": 16,
   "metadata": {},
   "outputs": [],
   "source": [
    "new_model = models.vgg16_bn(num_classes=10)"
   ]
  },
  {
   "cell_type": "code",
   "execution_count": 17,
   "metadata": {},
   "outputs": [
    {
     "data": {
      "text/plain": [
       "<All keys matched successfully>"
      ]
     },
     "execution_count": 17,
     "metadata": {},
     "output_type": "execute_result"
    }
   ],
   "source": [
    "new_model.load_state_dict(model.state_dict())"
   ]
  },
  {
   "cell_type": "code",
   "execution_count": 18,
   "metadata": {},
   "outputs": [],
   "source": [
    "new_model.eval()\n",
    "folded_model = bn_folding_model(new_model).cuda()"
   ]
  },
  {
   "cell_type": "code",
   "execution_count": 19,
   "metadata": {},
   "outputs": [
    {
     "name": "stdout",
     "output_type": "stream",
     "text": [
      "2.43 ms ± 133 µs per loop (mean ± std. dev. of 7 runs, 100 loops each)\n"
     ]
    }
   ],
   "source": [
    "%%timeit\n",
    "folded_model(x[0][None].cuda())"
   ]
  },
  {
   "cell_type": "code",
   "execution_count": 20,
   "metadata": {},
   "outputs": [
    {
     "name": "stdout",
     "output_type": "stream",
     "text": [
      "Total parameters : 134,301,514\n"
     ]
    }
   ],
   "source": [
    "count_parameters(folded_model)"
   ]
  },
  {
   "cell_type": "code",
   "execution_count": 21,
   "metadata": {},
   "outputs": [],
   "source": [
    "folded_learner = Learner(data, folded_model, metrics=[accuracy])"
   ]
  },
  {
   "cell_type": "code",
   "execution_count": 22,
   "metadata": {},
   "outputs": [
    {
     "data": {
      "text/html": [],
      "text/plain": [
       "<IPython.core.display.HTML object>"
      ]
     },
     "metadata": {},
     "output_type": "display_data"
    },
    {
     "data": {
      "text/plain": [
       "[0.9275267, tensor(0.6907)]"
      ]
     },
     "execution_count": 22,
     "metadata": {},
     "output_type": "execute_result"
    }
   ],
   "source": [
    "folded_learner.validate()"
   ]
  },
  {
   "cell_type": "code",
   "execution_count": 23,
   "metadata": {},
   "outputs": [
    {
     "data": {
      "text/plain": [
       "VGG\n",
       "======================================================================\n",
       "Layer (type)         Output Shape         Param #    Trainable \n",
       "======================================================================\n",
       "Conv2d               [64, 128, 128]       1,792      True      \n",
       "______________________________________________________________________\n",
       "ReLU                 [64, 128, 128]       0          False     \n",
       "______________________________________________________________________\n",
       "Conv2d               [64, 128, 128]       36,928     True      \n",
       "______________________________________________________________________\n",
       "ReLU                 [64, 128, 128]       0          False     \n",
       "______________________________________________________________________\n",
       "MaxPool2d            [64, 64, 64]         0          False     \n",
       "______________________________________________________________________\n",
       "Conv2d               [128, 64, 64]        73,856     True      \n",
       "______________________________________________________________________\n",
       "ReLU                 [128, 64, 64]        0          False     \n",
       "______________________________________________________________________\n",
       "Conv2d               [128, 64, 64]        147,584    True      \n",
       "______________________________________________________________________\n",
       "ReLU                 [128, 64, 64]        0          False     \n",
       "______________________________________________________________________\n",
       "MaxPool2d            [128, 32, 32]        0          False     \n",
       "______________________________________________________________________\n",
       "Conv2d               [256, 32, 32]        295,168    True      \n",
       "______________________________________________________________________\n",
       "ReLU                 [256, 32, 32]        0          False     \n",
       "______________________________________________________________________\n",
       "Conv2d               [256, 32, 32]        590,080    True      \n",
       "______________________________________________________________________\n",
       "ReLU                 [256, 32, 32]        0          False     \n",
       "______________________________________________________________________\n",
       "Conv2d               [256, 32, 32]        590,080    True      \n",
       "______________________________________________________________________\n",
       "ReLU                 [256, 32, 32]        0          False     \n",
       "______________________________________________________________________\n",
       "MaxPool2d            [256, 16, 16]        0          False     \n",
       "______________________________________________________________________\n",
       "Conv2d               [512, 16, 16]        1,180,160  True      \n",
       "______________________________________________________________________\n",
       "ReLU                 [512, 16, 16]        0          False     \n",
       "______________________________________________________________________\n",
       "Conv2d               [512, 16, 16]        2,359,808  True      \n",
       "______________________________________________________________________\n",
       "ReLU                 [512, 16, 16]        0          False     \n",
       "______________________________________________________________________\n",
       "Conv2d               [512, 16, 16]        2,359,808  True      \n",
       "______________________________________________________________________\n",
       "ReLU                 [512, 16, 16]        0          False     \n",
       "______________________________________________________________________\n",
       "MaxPool2d            [512, 8, 8]          0          False     \n",
       "______________________________________________________________________\n",
       "Conv2d               [512, 8, 8]          2,359,808  True      \n",
       "______________________________________________________________________\n",
       "ReLU                 [512, 8, 8]          0          False     \n",
       "______________________________________________________________________\n",
       "Conv2d               [512, 8, 8]          2,359,808  True      \n",
       "______________________________________________________________________\n",
       "ReLU                 [512, 8, 8]          0          False     \n",
       "______________________________________________________________________\n",
       "Conv2d               [512, 8, 8]          2,359,808  True      \n",
       "______________________________________________________________________\n",
       "ReLU                 [512, 8, 8]          0          False     \n",
       "______________________________________________________________________\n",
       "MaxPool2d            [512, 4, 4]          0          False     \n",
       "______________________________________________________________________\n",
       "AdaptiveAvgPool2d    [512, 7, 7]          0          False     \n",
       "______________________________________________________________________\n",
       "Linear               [4096]               102,764,544 True      \n",
       "______________________________________________________________________\n",
       "ReLU                 [4096]               0          False     \n",
       "______________________________________________________________________\n",
       "Dropout              [4096]               0          False     \n",
       "______________________________________________________________________\n",
       "Linear               [4096]               16,781,312 True      \n",
       "______________________________________________________________________\n",
       "ReLU                 [4096]               0          False     \n",
       "______________________________________________________________________\n",
       "Dropout              [4096]               0          False     \n",
       "______________________________________________________________________\n",
       "Linear               [10]                 40,970     True      \n",
       "______________________________________________________________________\n",
       "\n",
       "Total params: 134,301,514\n",
       "Total trainable params: 134,301,514\n",
       "Total non-trainable params: 0\n",
       "Optimized with 'torch.optim.adam.Adam', betas=(0.9, 0.99)\n",
       "Using true weight decay as discussed in https://www.fast.ai/2018/07/02/adam-weight-decay/ \n",
       "Loss function : FlattenedLoss\n",
       "======================================================================\n",
       "Callbacks functions applied "
      ]
     },
     "execution_count": 23,
     "metadata": {},
     "output_type": "execute_result"
    }
   ],
   "source": [
    "folded_learner.summary()"
   ]
  },
  {
   "cell_type": "markdown",
   "metadata": {},
   "source": [
    "We have removed the computation of the BN layers, reason why we gain some computation time but we haven't removed the parameters from the model, BN are still hold in memory. This is tricky to do because the model is sequentially built, so the number of layer do not correspond anymore. This is easier to do on ResNets because each layer is named."
   ]
  },
  {
   "cell_type": "markdown",
   "metadata": {},
   "source": [
    "## Resnet18"
   ]
  },
  {
   "cell_type": "code",
   "execution_count": 24,
   "metadata": {},
   "outputs": [],
   "source": [
    "learn = Learner(data, models.resnet50(num_classes=10), metrics=[accuracy])"
   ]
  },
  {
   "cell_type": "code",
   "execution_count": 25,
   "metadata": {},
   "outputs": [
    {
     "data": {
      "text/html": [
       "<table border=\"1\" class=\"dataframe\">\n",
       "  <thead>\n",
       "    <tr style=\"text-align: left;\">\n",
       "      <th>epoch</th>\n",
       "      <th>train_loss</th>\n",
       "      <th>valid_loss</th>\n",
       "      <th>accuracy</th>\n",
       "      <th>time</th>\n",
       "    </tr>\n",
       "  </thead>\n",
       "  <tbody>\n",
       "    <tr>\n",
       "      <td>0</td>\n",
       "      <td>2.090443</td>\n",
       "      <td>2.623190</td>\n",
       "      <td>0.243057</td>\n",
       "      <td>00:19</td>\n",
       "    </tr>\n",
       "    <tr>\n",
       "      <td>1</td>\n",
       "      <td>1.671145</td>\n",
       "      <td>1.487767</td>\n",
       "      <td>0.515414</td>\n",
       "      <td>00:19</td>\n",
       "    </tr>\n",
       "    <tr>\n",
       "      <td>2</td>\n",
       "      <td>1.290635</td>\n",
       "      <td>1.212664</td>\n",
       "      <td>0.616561</td>\n",
       "      <td>00:20</td>\n",
       "    </tr>\n",
       "    <tr>\n",
       "      <td>3</td>\n",
       "      <td>1.021132</td>\n",
       "      <td>0.950500</td>\n",
       "      <td>0.691720</td>\n",
       "      <td>00:20</td>\n",
       "    </tr>\n",
       "    <tr>\n",
       "      <td>4</td>\n",
       "      <td>0.815341</td>\n",
       "      <td>0.790772</td>\n",
       "      <td>0.749045</td>\n",
       "      <td>00:19</td>\n",
       "    </tr>\n",
       "  </tbody>\n",
       "</table>"
      ],
      "text/plain": [
       "<IPython.core.display.HTML object>"
      ]
     },
     "metadata": {},
     "output_type": "display_data"
    }
   ],
   "source": [
    "learn.fit_one_cycle(5, 1e-3)"
   ]
  },
  {
   "cell_type": "code",
   "execution_count": 26,
   "metadata": {},
   "outputs": [
    {
     "data": {
      "text/html": [],
      "text/plain": [
       "<IPython.core.display.HTML object>"
      ]
     },
     "metadata": {},
     "output_type": "display_data"
    },
    {
     "data": {
      "text/plain": [
       "[0.7907724, tensor(0.7490)]"
      ]
     },
     "execution_count": 26,
     "metadata": {},
     "output_type": "execute_result"
    }
   ],
   "source": [
    "learn.validate()"
   ]
  },
  {
   "cell_type": "code",
   "execution_count": 27,
   "metadata": {},
   "outputs": [],
   "source": [
    "model = learn.model.eval()"
   ]
  },
  {
   "cell_type": "code",
   "execution_count": 28,
   "metadata": {},
   "outputs": [],
   "source": [
    "x,y = data.one_batch()"
   ]
  },
  {
   "cell_type": "code",
   "execution_count": 29,
   "metadata": {},
   "outputs": [
    {
     "name": "stdout",
     "output_type": "stream",
     "text": [
      "6.07 ms ± 129 µs per loop (mean ± std. dev. of 7 runs, 100 loops each)\n"
     ]
    }
   ],
   "source": [
    "%%timeit\n",
    "model(x[0][None].cuda())"
   ]
  },
  {
   "cell_type": "code",
   "execution_count": 30,
   "metadata": {},
   "outputs": [
    {
     "name": "stdout",
     "output_type": "stream",
     "text": [
      "Total parameters : 23,528,522\n"
     ]
    }
   ],
   "source": [
    "count_parameters(model)"
   ]
  },
  {
   "cell_type": "code",
   "execution_count": 31,
   "metadata": {},
   "outputs": [],
   "source": [
    "from fasterai.resnet.folded_resnet import *"
   ]
  },
  {
   "cell_type": "code",
   "execution_count": 32,
   "metadata": {},
   "outputs": [],
   "source": [
    "new_model = resnet50(num_classes=10)"
   ]
  },
  {
   "cell_type": "code",
   "execution_count": 33,
   "metadata": {},
   "outputs": [
    {
     "data": {
      "text/plain": [
       "<All keys matched successfully>"
      ]
     },
     "execution_count": 33,
     "metadata": {},
     "output_type": "execute_result"
    }
   ],
   "source": [
    "new_model.load_state_dict(model.state_dict())"
   ]
  },
  {
   "cell_type": "code",
   "execution_count": 34,
   "metadata": {},
   "outputs": [],
   "source": [
    "new_model.eval()\n",
    "folded_model = bn_folding_model(new_model).cuda()"
   ]
  },
  {
   "cell_type": "code",
   "execution_count": 35,
   "metadata": {},
   "outputs": [
    {
     "name": "stdout",
     "output_type": "stream",
     "text": [
      "4.34 ms ± 1.23 µs per loop (mean ± std. dev. of 7 runs, 100 loops each)\n"
     ]
    }
   ],
   "source": [
    "%%timeit\n",
    "folded_model(x[0][None].cuda())"
   ]
  },
  {
   "cell_type": "code",
   "execution_count": 36,
   "metadata": {},
   "outputs": [
    {
     "name": "stdout",
     "output_type": "stream",
     "text": [
      "Total parameters : 23,528,522\n"
     ]
    }
   ],
   "source": [
    "count_parameters(new_model)"
   ]
  },
  {
   "cell_type": "code",
   "execution_count": 37,
   "metadata": {},
   "outputs": [],
   "source": [
    "folded_learner = Learner(data, folded_model, metrics=[accuracy])"
   ]
  },
  {
   "cell_type": "code",
   "execution_count": 38,
   "metadata": {},
   "outputs": [
    {
     "data": {
      "text/html": [],
      "text/plain": [
       "<IPython.core.display.HTML object>"
      ]
     },
     "metadata": {},
     "output_type": "display_data"
    },
    {
     "data": {
      "text/plain": [
       "[0.79077244, tensor(0.7490)]"
      ]
     },
     "execution_count": 38,
     "metadata": {},
     "output_type": "execute_result"
    }
   ],
   "source": [
    "folded_learner.validate()"
   ]
  },
  {
   "cell_type": "code",
   "execution_count": 39,
   "metadata": {},
   "outputs": [],
   "source": [
    "from fasterai.resnet.folded_resnet_nobn import *"
   ]
  },
  {
   "cell_type": "code",
   "execution_count": 40,
   "metadata": {},
   "outputs": [],
   "source": [
    "final_model = resnet50(num_classes=10)"
   ]
  },
  {
   "cell_type": "code",
   "execution_count": 41,
   "metadata": {},
   "outputs": [
    {
     "data": {
      "text/plain": [
       "<All keys matched successfully>"
      ]
     },
     "execution_count": 41,
     "metadata": {},
     "output_type": "execute_result"
    }
   ],
   "source": [
    "final_model.load_state_dict(folded_model.state_dict(),strict=False)"
   ]
  },
  {
   "cell_type": "code",
   "execution_count": 42,
   "metadata": {},
   "outputs": [
    {
     "name": "stdout",
     "output_type": "stream",
     "text": [
      "Total parameters : 23,501,962\n"
     ]
    }
   ],
   "source": [
    "count_parameters(final_model)"
   ]
  },
  {
   "cell_type": "code",
   "execution_count": 43,
   "metadata": {},
   "outputs": [],
   "source": [
    "final_learner = Learner(data, final_model, metrics=[accuracy])"
   ]
  },
  {
   "cell_type": "code",
   "execution_count": 44,
   "metadata": {},
   "outputs": [
    {
     "name": "stdout",
     "output_type": "stream",
     "text": [
      "4.29 ms ± 10.7 µs per loop (mean ± std. dev. of 7 runs, 100 loops each)\n"
     ]
    }
   ],
   "source": [
    "%%timeit\n",
    "final_model(x[0][None].cuda())"
   ]
  },
  {
   "cell_type": "code",
   "execution_count": 45,
   "metadata": {},
   "outputs": [
    {
     "data": {
      "text/html": [],
      "text/plain": [
       "<IPython.core.display.HTML object>"
      ]
     },
     "metadata": {},
     "output_type": "display_data"
    },
    {
     "data": {
      "text/plain": [
       "[0.79077244, tensor(0.7490)]"
      ]
     },
     "execution_count": 45,
     "metadata": {},
     "output_type": "execute_result"
    }
   ],
   "source": [
    "final_learner.validate()"
   ]
  },
  {
   "cell_type": "code",
   "execution_count": 47,
   "metadata": {},
   "outputs": [
    {
     "data": {
      "text/plain": [
       "ResNet\n",
       "======================================================================\n",
       "Layer (type)         Output Shape         Param #    Trainable \n",
       "======================================================================\n",
       "Conv2d               [64, 64, 64]         9,408      True      \n",
       "______________________________________________________________________\n",
       "BatchNorm2d          [64, 64, 64]         128        True      \n",
       "______________________________________________________________________\n",
       "ReLU                 [64, 64, 64]         0          False     \n",
       "______________________________________________________________________\n",
       "MaxPool2d            [64, 32, 32]         0          False     \n",
       "______________________________________________________________________\n",
       "Conv2d               [64, 32, 32]         4,096      True      \n",
       "______________________________________________________________________\n",
       "BatchNorm2d          [64, 32, 32]         128        True      \n",
       "______________________________________________________________________\n",
       "Conv2d               [64, 32, 32]         36,864     True      \n",
       "______________________________________________________________________\n",
       "BatchNorm2d          [64, 32, 32]         128        True      \n",
       "______________________________________________________________________\n",
       "Conv2d               [256, 32, 32]        16,384     True      \n",
       "______________________________________________________________________\n",
       "BatchNorm2d          [256, 32, 32]        512        True      \n",
       "______________________________________________________________________\n",
       "ReLU                 [256, 32, 32]        0          False     \n",
       "______________________________________________________________________\n",
       "Conv2d               [256, 32, 32]        16,384     True      \n",
       "______________________________________________________________________\n",
       "BatchNorm2d          [256, 32, 32]        512        True      \n",
       "______________________________________________________________________\n",
       "Conv2d               [64, 32, 32]         16,384     True      \n",
       "______________________________________________________________________\n",
       "BatchNorm2d          [64, 32, 32]         128        True      \n",
       "______________________________________________________________________\n",
       "Conv2d               [64, 32, 32]         36,864     True      \n",
       "______________________________________________________________________\n",
       "BatchNorm2d          [64, 32, 32]         128        True      \n",
       "______________________________________________________________________\n",
       "Conv2d               [256, 32, 32]        16,384     True      \n",
       "______________________________________________________________________\n",
       "BatchNorm2d          [256, 32, 32]        512        True      \n",
       "______________________________________________________________________\n",
       "ReLU                 [256, 32, 32]        0          False     \n",
       "______________________________________________________________________\n",
       "Conv2d               [64, 32, 32]         16,384     True      \n",
       "______________________________________________________________________\n",
       "BatchNorm2d          [64, 32, 32]         128        True      \n",
       "______________________________________________________________________\n",
       "Conv2d               [64, 32, 32]         36,864     True      \n",
       "______________________________________________________________________\n",
       "BatchNorm2d          [64, 32, 32]         128        True      \n",
       "______________________________________________________________________\n",
       "Conv2d               [256, 32, 32]        16,384     True      \n",
       "______________________________________________________________________\n",
       "BatchNorm2d          [256, 32, 32]        512        True      \n",
       "______________________________________________________________________\n",
       "ReLU                 [256, 32, 32]        0          False     \n",
       "______________________________________________________________________\n",
       "Conv2d               [128, 32, 32]        32,768     True      \n",
       "______________________________________________________________________\n",
       "BatchNorm2d          [128, 32, 32]        256        True      \n",
       "______________________________________________________________________\n",
       "Conv2d               [128, 16, 16]        147,456    True      \n",
       "______________________________________________________________________\n",
       "BatchNorm2d          [128, 16, 16]        256        True      \n",
       "______________________________________________________________________\n",
       "Conv2d               [512, 16, 16]        65,536     True      \n",
       "______________________________________________________________________\n",
       "BatchNorm2d          [512, 16, 16]        1,024      True      \n",
       "______________________________________________________________________\n",
       "ReLU                 [512, 16, 16]        0          False     \n",
       "______________________________________________________________________\n",
       "Conv2d               [512, 16, 16]        131,072    True      \n",
       "______________________________________________________________________\n",
       "BatchNorm2d          [512, 16, 16]        1,024      True      \n",
       "______________________________________________________________________\n",
       "Conv2d               [128, 16, 16]        65,536     True      \n",
       "______________________________________________________________________\n",
       "BatchNorm2d          [128, 16, 16]        256        True      \n",
       "______________________________________________________________________\n",
       "Conv2d               [128, 16, 16]        147,456    True      \n",
       "______________________________________________________________________\n",
       "BatchNorm2d          [128, 16, 16]        256        True      \n",
       "______________________________________________________________________\n",
       "Conv2d               [512, 16, 16]        65,536     True      \n",
       "______________________________________________________________________\n",
       "BatchNorm2d          [512, 16, 16]        1,024      True      \n",
       "______________________________________________________________________\n",
       "ReLU                 [512, 16, 16]        0          False     \n",
       "______________________________________________________________________\n",
       "Conv2d               [128, 16, 16]        65,536     True      \n",
       "______________________________________________________________________\n",
       "BatchNorm2d          [128, 16, 16]        256        True      \n",
       "______________________________________________________________________\n",
       "Conv2d               [128, 16, 16]        147,456    True      \n",
       "______________________________________________________________________\n",
       "BatchNorm2d          [128, 16, 16]        256        True      \n",
       "______________________________________________________________________\n",
       "Conv2d               [512, 16, 16]        65,536     True      \n",
       "______________________________________________________________________\n",
       "BatchNorm2d          [512, 16, 16]        1,024      True      \n",
       "______________________________________________________________________\n",
       "ReLU                 [512, 16, 16]        0          False     \n",
       "______________________________________________________________________\n",
       "Conv2d               [128, 16, 16]        65,536     True      \n",
       "______________________________________________________________________\n",
       "BatchNorm2d          [128, 16, 16]        256        True      \n",
       "______________________________________________________________________\n",
       "Conv2d               [128, 16, 16]        147,456    True      \n",
       "______________________________________________________________________\n",
       "BatchNorm2d          [128, 16, 16]        256        True      \n",
       "______________________________________________________________________\n",
       "Conv2d               [512, 16, 16]        65,536     True      \n",
       "______________________________________________________________________\n",
       "BatchNorm2d          [512, 16, 16]        1,024      True      \n",
       "______________________________________________________________________\n",
       "ReLU                 [512, 16, 16]        0          False     \n",
       "______________________________________________________________________\n",
       "Conv2d               [256, 16, 16]        131,072    True      \n",
       "______________________________________________________________________\n",
       "BatchNorm2d          [256, 16, 16]        512        True      \n",
       "______________________________________________________________________\n",
       "Conv2d               [256, 8, 8]          589,824    True      \n",
       "______________________________________________________________________\n",
       "BatchNorm2d          [256, 8, 8]          512        True      \n",
       "______________________________________________________________________\n",
       "Conv2d               [1024, 8, 8]         262,144    True      \n",
       "______________________________________________________________________\n",
       "BatchNorm2d          [1024, 8, 8]         2,048      True      \n",
       "______________________________________________________________________\n",
       "ReLU                 [1024, 8, 8]         0          False     \n",
       "______________________________________________________________________\n",
       "Conv2d               [1024, 8, 8]         524,288    True      \n",
       "______________________________________________________________________\n",
       "BatchNorm2d          [1024, 8, 8]         2,048      True      \n",
       "______________________________________________________________________\n",
       "Conv2d               [256, 8, 8]          262,144    True      \n",
       "______________________________________________________________________\n",
       "BatchNorm2d          [256, 8, 8]          512        True      \n",
       "______________________________________________________________________\n",
       "Conv2d               [256, 8, 8]          589,824    True      \n",
       "______________________________________________________________________\n",
       "BatchNorm2d          [256, 8, 8]          512        True      \n",
       "______________________________________________________________________\n",
       "Conv2d               [1024, 8, 8]         262,144    True      \n",
       "______________________________________________________________________\n",
       "BatchNorm2d          [1024, 8, 8]         2,048      True      \n",
       "______________________________________________________________________\n",
       "ReLU                 [1024, 8, 8]         0          False     \n",
       "______________________________________________________________________\n",
       "Conv2d               [256, 8, 8]          262,144    True      \n",
       "______________________________________________________________________\n",
       "BatchNorm2d          [256, 8, 8]          512        True      \n",
       "______________________________________________________________________\n",
       "Conv2d               [256, 8, 8]          589,824    True      \n",
       "______________________________________________________________________\n",
       "BatchNorm2d          [256, 8, 8]          512        True      \n",
       "______________________________________________________________________\n",
       "Conv2d               [1024, 8, 8]         262,144    True      \n",
       "______________________________________________________________________\n",
       "BatchNorm2d          [1024, 8, 8]         2,048      True      \n",
       "______________________________________________________________________\n",
       "ReLU                 [1024, 8, 8]         0          False     \n",
       "______________________________________________________________________\n",
       "Conv2d               [256, 8, 8]          262,144    True      \n",
       "______________________________________________________________________\n",
       "BatchNorm2d          [256, 8, 8]          512        True      \n",
       "______________________________________________________________________\n",
       "Conv2d               [256, 8, 8]          589,824    True      \n",
       "______________________________________________________________________\n",
       "BatchNorm2d          [256, 8, 8]          512        True      \n",
       "______________________________________________________________________\n",
       "Conv2d               [1024, 8, 8]         262,144    True      \n",
       "______________________________________________________________________\n",
       "BatchNorm2d          [1024, 8, 8]         2,048      True      \n",
       "______________________________________________________________________\n",
       "ReLU                 [1024, 8, 8]         0          False     \n",
       "______________________________________________________________________\n",
       "Conv2d               [256, 8, 8]          262,144    True      \n",
       "______________________________________________________________________\n",
       "BatchNorm2d          [256, 8, 8]          512        True      \n",
       "______________________________________________________________________\n",
       "Conv2d               [256, 8, 8]          589,824    True      \n",
       "______________________________________________________________________\n",
       "BatchNorm2d          [256, 8, 8]          512        True      \n",
       "______________________________________________________________________\n",
       "Conv2d               [1024, 8, 8]         262,144    True      \n",
       "______________________________________________________________________\n",
       "BatchNorm2d          [1024, 8, 8]         2,048      True      \n",
       "______________________________________________________________________\n",
       "ReLU                 [1024, 8, 8]         0          False     \n",
       "______________________________________________________________________\n",
       "Conv2d               [256, 8, 8]          262,144    True      \n",
       "______________________________________________________________________\n",
       "BatchNorm2d          [256, 8, 8]          512        True      \n",
       "______________________________________________________________________\n",
       "Conv2d               [256, 8, 8]          589,824    True      \n",
       "______________________________________________________________________\n",
       "BatchNorm2d          [256, 8, 8]          512        True      \n",
       "______________________________________________________________________\n",
       "Conv2d               [1024, 8, 8]         262,144    True      \n",
       "______________________________________________________________________\n",
       "BatchNorm2d          [1024, 8, 8]         2,048      True      \n",
       "______________________________________________________________________\n",
       "ReLU                 [1024, 8, 8]         0          False     \n",
       "______________________________________________________________________\n",
       "Conv2d               [512, 8, 8]          524,288    True      \n",
       "______________________________________________________________________\n",
       "BatchNorm2d          [512, 8, 8]          1,024      True      \n",
       "______________________________________________________________________\n",
       "Conv2d               [512, 4, 4]          2,359,296  True      \n",
       "______________________________________________________________________\n",
       "BatchNorm2d          [512, 4, 4]          1,024      True      \n",
       "______________________________________________________________________\n",
       "Conv2d               [2048, 4, 4]         1,048,576  True      \n",
       "______________________________________________________________________\n",
       "BatchNorm2d          [2048, 4, 4]         4,096      True      \n",
       "______________________________________________________________________\n",
       "ReLU                 [2048, 4, 4]         0          False     \n",
       "______________________________________________________________________\n",
       "Conv2d               [2048, 4, 4]         2,097,152  True      \n",
       "______________________________________________________________________\n",
       "BatchNorm2d          [2048, 4, 4]         4,096      True      \n",
       "______________________________________________________________________\n",
       "Conv2d               [512, 4, 4]          1,048,576  True      \n",
       "______________________________________________________________________\n",
       "BatchNorm2d          [512, 4, 4]          1,024      True      \n",
       "______________________________________________________________________\n",
       "Conv2d               [512, 4, 4]          2,359,296  True      \n",
       "______________________________________________________________________\n",
       "BatchNorm2d          [512, 4, 4]          1,024      True      \n",
       "______________________________________________________________________\n",
       "Conv2d               [2048, 4, 4]         1,048,576  True      \n",
       "______________________________________________________________________\n",
       "BatchNorm2d          [2048, 4, 4]         4,096      True      \n",
       "______________________________________________________________________\n",
       "ReLU                 [2048, 4, 4]         0          False     \n",
       "______________________________________________________________________\n",
       "Conv2d               [512, 4, 4]          1,048,576  True      \n",
       "______________________________________________________________________\n",
       "BatchNorm2d          [512, 4, 4]          1,024      True      \n",
       "______________________________________________________________________\n",
       "Conv2d               [512, 4, 4]          2,359,296  True      \n",
       "______________________________________________________________________\n",
       "BatchNorm2d          [512, 4, 4]          1,024      True      \n",
       "______________________________________________________________________\n",
       "Conv2d               [2048, 4, 4]         1,048,576  True      \n",
       "______________________________________________________________________\n",
       "BatchNorm2d          [2048, 4, 4]         4,096      True      \n",
       "______________________________________________________________________\n",
       "ReLU                 [2048, 4, 4]         0          False     \n",
       "______________________________________________________________________\n",
       "AdaptiveAvgPool2d    [2048, 1, 1]         0          False     \n",
       "______________________________________________________________________\n",
       "Linear               [10]                 20,490     True      \n",
       "______________________________________________________________________\n",
       "\n",
       "Total params: 23,528,522\n",
       "Total trainable params: 23,528,522\n",
       "Total non-trainable params: 0\n",
       "Optimized with 'torch.optim.adam.Adam', betas=(0.9, 0.99)\n",
       "Using true weight decay as discussed in https://www.fast.ai/2018/07/02/adam-weight-decay/ \n",
       "Loss function : FlattenedLoss\n",
       "======================================================================\n",
       "Callbacks functions applied "
      ]
     },
     "execution_count": 47,
     "metadata": {},
     "output_type": "execute_result"
    }
   ],
   "source": [
    "learn.summary()"
   ]
  }
 ],
 "metadata": {
  "kernelspec": {
   "display_name": "Python 3",
   "language": "python",
   "name": "python3"
  },
  "language_info": {
   "codemirror_mode": {
    "name": "ipython",
    "version": 3
   },
   "file_extension": ".py",
   "mimetype": "text/x-python",
   "name": "python",
   "nbconvert_exporter": "python",
   "pygments_lexer": "ipython3",
   "version": "3.6.8"
  }
 },
 "nbformat": 4,
 "nbformat_minor": 4
}
