{
 "cells": [
  {
   "cell_type": "markdown",
   "metadata": {},
   "source": [
    "# Network Pruning"
   ]
  },
  {
   "cell_type": "markdown",
   "metadata": {},
   "source": [
    "When you sparsify your network, you don't really remove the parameters so you don't take advantage of it. There are a lot of research being done to accelerate computation on sparse matrices and we expect to have it implemented in PyTorch soon: [see `torch.sparse`](https://pytorch.org/docs/stable/sparse.html)\n",
    "\n",
    "What I mean here by pruning is the process of completely remove the sparsified parameters. This can thus only be done when the granularity is at the level of complete filters as it doesn't make sense to remove a single parameter.\n",
    "\n",
    " > Note: only Sequential feed-forward networks are supported for now."
   ]
  },
  {
   "cell_type": "code",
   "execution_count": 1,
   "metadata": {},
   "outputs": [],
   "source": [
    "from fastai.vision import *\n",
    "from fastai.callbacks import *"
   ]
  },
  {
   "cell_type": "code",
   "execution_count": 2,
   "metadata": {},
   "outputs": [],
   "source": [
    "import torch\n",
    "import torch.nn as nn\n",
    "import torch.nn.functional as F"
   ]
  },
  {
   "cell_type": "code",
   "execution_count": 3,
   "metadata": {
    "scrolled": true
   },
   "outputs": [],
   "source": [
    "path = untar_data(URLs.IMAGENETTE_160)"
   ]
  },
  {
   "cell_type": "code",
   "execution_count": 4,
   "metadata": {},
   "outputs": [],
   "source": [
    "data = (ImageList.from_folder(path)\n",
    "                .split_by_folder(train='train', valid='val')\n",
    "                .label_from_folder()\n",
    "                .transform(get_transforms(), size=128)\n",
    "                .databunch(bs=64)\n",
    "                .normalize(imagenet_stats))"
   ]
  },
  {
   "cell_type": "code",
   "execution_count": 5,
   "metadata": {},
   "outputs": [],
   "source": [
    "import sys\n",
    "sys.path.append('../')\n",
    "\n",
    "from fasterai.sparsifier import *"
   ]
  },
  {
   "cell_type": "markdown",
   "metadata": {},
   "source": [
    "## Network"
   ]
  },
  {
   "cell_type": "code",
   "execution_count": 49,
   "metadata": {},
   "outputs": [],
   "source": [
    "class Net(nn.Module):\n",
    "    def __init__(self, mnist=True):\n",
    "        super().__init__()\n",
    "          \n",
    "        self.conv1 = nn.Conv2d(3, 32, 5, 1)\n",
    "        self.conv2 = nn.Conv2d(32, 64, 5, 1)\n",
    "        self.conv3 = nn.Conv2d(64, 128, 5, 1)\n",
    "        self.pool = nn.AdaptiveAvgPool2d((1))\n",
    "        self.fc1 = nn.Linear(128, 64)\n",
    "        self.fc2 = nn.Linear(64, 10)\n",
    "    \n",
    "    def forward(self, x):\n",
    "\n",
    "        x = F.relu(self.conv1(x))\n",
    "        x = F.max_pool2d(x, 2, 2)\n",
    "        x = F.relu(self.conv2(x))\n",
    "        x = F.relu(self.conv3(x))\n",
    "        x = self.pool(x)\n",
    "        x = x.view(x.shape[0], -1)\n",
    "        x = F.relu(self.fc1(x))\n",
    "        x = self.fc2(x)\n",
    "        return x"
   ]
  },
  {
   "cell_type": "code",
   "execution_count": 38,
   "metadata": {},
   "outputs": [],
   "source": [
    "learn = Learner(data, Net().cuda(), metrics=[accuracy])"
   ]
  },
  {
   "cell_type": "code",
   "execution_count": 40,
   "metadata": {},
   "outputs": [
    {
     "name": "stdout",
     "output_type": "stream",
     "text": [
      "Pruning of filter until a sparsity of 30%\n"
     ]
    },
    {
     "data": {
      "text/html": [
       "<table border=\"1\" class=\"dataframe\">\n",
       "  <thead>\n",
       "    <tr style=\"text-align: left;\">\n",
       "      <th>epoch</th>\n",
       "      <th>train_loss</th>\n",
       "      <th>valid_loss</th>\n",
       "      <th>accuracy</th>\n",
       "      <th>time</th>\n",
       "    </tr>\n",
       "  </thead>\n",
       "  <tbody>\n",
       "    <tr>\n",
       "      <td>0</td>\n",
       "      <td>2.001169</td>\n",
       "      <td>1.926130</td>\n",
       "      <td>0.330701</td>\n",
       "      <td>00:10</td>\n",
       "    </tr>\n",
       "    <tr>\n",
       "      <td>1</td>\n",
       "      <td>1.769364</td>\n",
       "      <td>1.678919</td>\n",
       "      <td>0.421146</td>\n",
       "      <td>00:11</td>\n",
       "    </tr>\n",
       "    <tr>\n",
       "      <td>2</td>\n",
       "      <td>1.669904</td>\n",
       "      <td>1.637165</td>\n",
       "      <td>0.430828</td>\n",
       "      <td>00:10</td>\n",
       "    </tr>\n",
       "  </tbody>\n",
       "</table>"
      ],
      "text/plain": [
       "<IPython.core.display.HTML object>"
      ]
     },
     "metadata": {},
     "output_type": "display_data"
    },
    {
     "name": "stdout",
     "output_type": "stream",
     "text": [
      "Sparsity at epoch 0: 7.59%\n",
      "Sparsity at epoch 1: 22.59%\n",
      "Sparsity at epoch 2: 30.00%\n",
      "Final Sparsity: 30.00\n"
     ]
    }
   ],
   "source": [
    "learn.fit_one_cycle(3, 1e-3, callbacks=[SparsifyCallback(learn, sparsity=30, granularity='filter', method='local', criteria='l1', sched_func=annealing_cos)])"
   ]
  },
  {
   "cell_type": "markdown",
   "metadata": {},
   "source": [
    "Let's double check that we correctly removed the parameters:"
   ]
  },
  {
   "cell_type": "code",
   "execution_count": 41,
   "metadata": {},
   "outputs": [
    {
     "name": "stdout",
     "output_type": "stream",
     "text": [
      "Sparsity in Conv2d 1: 28.12%\n",
      "Sparsity in Conv2d 2: 29.69%\n",
      "Sparsity in Conv2d 3: 29.69%\n"
     ]
    }
   ],
   "source": [
    "for k,m in enumerate(learn.model.modules()):\n",
    "    if isinstance(m, nn.Conv2d):\n",
    "        print(f\"Sparsity in {m.__class__.__name__} {k}: {100. * float(torch.sum(m.weight == 0))/ float(m.weight.nelement()):.2f}%\")"
   ]
  },
  {
   "cell_type": "code",
   "execution_count": 42,
   "metadata": {},
   "outputs": [
    {
     "data": {
      "text/plain": [
       "Parameter containing:\n",
       "tensor([-0.0767,  0.0534,  0.0922, -0.0256,  0.0816,  0.0000, -0.1097,  0.0327,\n",
       "        -0.0207,  0.0377, -0.0981, -0.0050, -0.0000, -0.0649,  0.0000, -0.0225,\n",
       "        -0.0531, -0.0358,  0.0000,  0.0666,  0.0279,  0.0000, -0.0000, -0.0608,\n",
       "        -0.0000, -0.0635,  0.0000,  0.0631, -0.0203,  0.0000, -0.1003,  0.0700],\n",
       "       device='cuda:0', requires_grad=True)"
      ]
     },
     "execution_count": 42,
     "metadata": {},
     "output_type": "execute_result"
    }
   ],
   "source": [
    "learn.model.conv1.bias"
   ]
  },
  {
   "cell_type": "code",
   "execution_count": 43,
   "metadata": {},
   "outputs": [],
   "source": [
    "from fasterai.pruner import *"
   ]
  },
  {
   "cell_type": "code",
   "execution_count": 44,
   "metadata": {},
   "outputs": [],
   "source": [
    "pruner = Pruner()"
   ]
  },
  {
   "cell_type": "code",
   "execution_count": 45,
   "metadata": {},
   "outputs": [],
   "source": [
    "pruned_model = pruner.prune_model(learn.model)"
   ]
  },
  {
   "cell_type": "code",
   "execution_count": 46,
   "metadata": {},
   "outputs": [],
   "source": [
    "pruned_learn = Learner(data, pruned_model, metrics =[accuracy])"
   ]
  },
  {
   "cell_type": "code",
   "execution_count": 47,
   "metadata": {},
   "outputs": [
    {
     "data": {
      "text/html": [],
      "text/plain": [
       "<IPython.core.display.HTML object>"
      ]
     },
     "metadata": {},
     "output_type": "display_data"
    },
    {
     "name": "stdout",
     "output_type": "stream",
     "text": [
      "The original model had 43.08 % accuracy\n"
     ]
    }
   ],
   "source": [
    "print(f'The original model had {100*learn.validate()[1]:.2f} % accuracy')"
   ]
  },
  {
   "cell_type": "code",
   "execution_count": 48,
   "metadata": {},
   "outputs": [
    {
     "data": {
      "text/html": [],
      "text/plain": [
       "<IPython.core.display.HTML object>"
      ]
     },
     "metadata": {},
     "output_type": "display_data"
    },
    {
     "name": "stdout",
     "output_type": "stream",
     "text": [
      "The pruned model has 43.08 % accuracy\n"
     ]
    }
   ],
   "source": [
    "print(f'The pruned model has {100*pruned_learn.validate()[1]:.2f} % accuracy')"
   ]
  },
  {
   "cell_type": "code",
   "execution_count": null,
   "metadata": {},
   "outputs": [],
   "source": [
    "learn.summary()"
   ]
  },
  {
   "cell_type": "code",
   "execution_count": null,
   "metadata": {},
   "outputs": [],
   "source": [
    "pruned_learn.summary()"
   ]
  },
  {
   "cell_type": "markdown",
   "metadata": {},
   "source": [
    "We can see now that our network has a lot of parameters removed, because we removed the filters that were not useful anymore (all of their weight were 0)."
   ]
  },
  {
   "cell_type": "markdown",
   "metadata": {},
   "source": [
    "## VGG16"
   ]
  },
  {
   "cell_type": "code",
   "execution_count": 50,
   "metadata": {},
   "outputs": [],
   "source": [
    "learn = Learner(data, models.vgg16_bn(num_classes=10).cuda(), metrics=[accuracy])"
   ]
  },
  {
   "cell_type": "code",
   "execution_count": 8,
   "metadata": {},
   "outputs": [
    {
     "name": "stdout",
     "output_type": "stream",
     "text": [
      "Pruning of filter until a sparsity of 30%\n"
     ]
    },
    {
     "data": {
      "text/html": [
       "<table border=\"1\" class=\"dataframe\">\n",
       "  <thead>\n",
       "    <tr style=\"text-align: left;\">\n",
       "      <th>epoch</th>\n",
       "      <th>train_loss</th>\n",
       "      <th>valid_loss</th>\n",
       "      <th>accuracy</th>\n",
       "      <th>time</th>\n",
       "    </tr>\n",
       "  </thead>\n",
       "  <tbody>\n",
       "    <tr>\n",
       "      <td>0</td>\n",
       "      <td>2.070591</td>\n",
       "      <td>2.644525</td>\n",
       "      <td>0.238981</td>\n",
       "      <td>00:50</td>\n",
       "    </tr>\n",
       "    <tr>\n",
       "      <td>1</td>\n",
       "      <td>1.737292</td>\n",
       "      <td>1.674513</td>\n",
       "      <td>0.440764</td>\n",
       "      <td>00:51</td>\n",
       "    </tr>\n",
       "    <tr>\n",
       "      <td>2</td>\n",
       "      <td>1.416635</td>\n",
       "      <td>1.234864</td>\n",
       "      <td>0.594395</td>\n",
       "      <td>00:50</td>\n",
       "    </tr>\n",
       "  </tbody>\n",
       "</table>"
      ],
      "text/plain": [
       "<IPython.core.display.HTML object>"
      ]
     },
     "metadata": {},
     "output_type": "display_data"
    },
    {
     "name": "stdout",
     "output_type": "stream",
     "text": [
      "Sparsity at epoch 0: 7.59%\n",
      "Sparsity at epoch 1: 22.59%\n",
      "Sparsity at epoch 2: 30.00%\n",
      "Final Sparsity: 30.00\n"
     ]
    }
   ],
   "source": [
    "learn.fit_one_cycle(3, 1e-3, callbacks=[SparsifyCallback(learn, sparsity=30, granularity='filter', method='local', criteria='l1', sched_func=annealing_cos)])"
   ]
  },
  {
   "cell_type": "code",
   "execution_count": 9,
   "metadata": {},
   "outputs": [
    {
     "name": "stdout",
     "output_type": "stream",
     "text": [
      "Sparsity in Conv2d 2: 29.69%\n",
      "Sparsity in Conv2d 5: 29.69%\n",
      "Sparsity in Conv2d 9: 29.69%\n",
      "Sparsity in Conv2d 12: 29.69%\n",
      "Sparsity in Conv2d 16: 29.69%\n",
      "Sparsity in Conv2d 19: 29.69%\n",
      "Sparsity in Conv2d 22: 29.69%\n",
      "Sparsity in Conv2d 26: 29.88%\n",
      "Sparsity in Conv2d 29: 29.88%\n",
      "Sparsity in Conv2d 32: 29.88%\n",
      "Sparsity in Conv2d 36: 29.88%\n",
      "Sparsity in Conv2d 39: 29.88%\n",
      "Sparsity in Conv2d 42: 29.88%\n"
     ]
    }
   ],
   "source": [
    "for k,m in enumerate(learn.model.modules()):\n",
    "    if isinstance(m, nn.Conv2d):\n",
    "        print(f\"Sparsity in {m.__class__.__name__} {k}: {100. * float(torch.sum(m.weight == 0))/ float(m.weight.nelement()):.2f}%\")"
   ]
  },
  {
   "cell_type": "code",
   "execution_count": 10,
   "metadata": {},
   "outputs": [],
   "source": [
    "pruner = Pruner()"
   ]
  },
  {
   "cell_type": "code",
   "execution_count": 11,
   "metadata": {},
   "outputs": [
    {
     "name": "stderr",
     "output_type": "stream",
     "text": [
      "/pytorch/torch/csrc/utils/python_arg_parser.cpp:756: UserWarning: This overload of nonzero is deprecated:\n",
      "\tnonzero(Tensor input, *, Tensor out)\n",
      "Consider using one of the following signatures instead:\n",
      "\tnonzero(Tensor input, *, bool as_tuple)\n"
     ]
    }
   ],
   "source": [
    "pruned_model = pruner.prune_model(learn.model)"
   ]
  },
  {
   "cell_type": "code",
   "execution_count": 12,
   "metadata": {},
   "outputs": [],
   "source": [
    "pruned_learn = Learner(data, pruned_model, metrics =[accuracy])"
   ]
  },
  {
   "cell_type": "code",
   "execution_count": 30,
   "metadata": {},
   "outputs": [
    {
     "data": {
      "text/html": [],
      "text/plain": [
       "<IPython.core.display.HTML object>"
      ]
     },
     "metadata": {},
     "output_type": "display_data"
    },
    {
     "name": "stdout",
     "output_type": "stream",
     "text": [
      "The original model had 63.24 % accuracy\n"
     ]
    }
   ],
   "source": [
    "print(f'The original model had {100*learn.validate()[1]:.2f} % accuracy')"
   ]
  },
  {
   "cell_type": "code",
   "execution_count": 31,
   "metadata": {},
   "outputs": [
    {
     "data": {
      "text/html": [],
      "text/plain": [
       "<IPython.core.display.HTML object>"
      ]
     },
     "metadata": {},
     "output_type": "display_data"
    },
    {
     "name": "stdout",
     "output_type": "stream",
     "text": [
      "The pruned model has 56.48 % accuracy\n"
     ]
    }
   ],
   "source": [
    "print(f'The pruned model has {100*pruned_learn.validate()[1]:.2f} % accuracy')"
   ]
  },
  {
   "cell_type": "code",
   "execution_count": 15,
   "metadata": {},
   "outputs": [
    {
     "data": {
      "text/plain": [
       "VGG\n",
       "======================================================================\n",
       "Layer (type)         Output Shape         Param #    Trainable \n",
       "======================================================================\n",
       "Conv2d               [64, 128, 128]       1,792      True      \n",
       "______________________________________________________________________\n",
       "BatchNorm2d          [64, 128, 128]       128        True      \n",
       "______________________________________________________________________\n",
       "ReLU                 [64, 128, 128]       0          False     \n",
       "______________________________________________________________________\n",
       "Conv2d               [64, 128, 128]       36,928     True      \n",
       "______________________________________________________________________\n",
       "BatchNorm2d          [64, 128, 128]       128        True      \n",
       "______________________________________________________________________\n",
       "ReLU                 [64, 128, 128]       0          False     \n",
       "______________________________________________________________________\n",
       "MaxPool2d            [64, 64, 64]         0          False     \n",
       "______________________________________________________________________\n",
       "Conv2d               [128, 64, 64]        73,856     True      \n",
       "______________________________________________________________________\n",
       "BatchNorm2d          [128, 64, 64]        256        True      \n",
       "______________________________________________________________________\n",
       "ReLU                 [128, 64, 64]        0          False     \n",
       "______________________________________________________________________\n",
       "Conv2d               [128, 64, 64]        147,584    True      \n",
       "______________________________________________________________________\n",
       "BatchNorm2d          [128, 64, 64]        256        True      \n",
       "______________________________________________________________________\n",
       "ReLU                 [128, 64, 64]        0          False     \n",
       "______________________________________________________________________\n",
       "MaxPool2d            [128, 32, 32]        0          False     \n",
       "______________________________________________________________________\n",
       "Conv2d               [256, 32, 32]        295,168    True      \n",
       "______________________________________________________________________\n",
       "BatchNorm2d          [256, 32, 32]        512        True      \n",
       "______________________________________________________________________\n",
       "ReLU                 [256, 32, 32]        0          False     \n",
       "______________________________________________________________________\n",
       "Conv2d               [256, 32, 32]        590,080    True      \n",
       "______________________________________________________________________\n",
       "BatchNorm2d          [256, 32, 32]        512        True      \n",
       "______________________________________________________________________\n",
       "ReLU                 [256, 32, 32]        0          False     \n",
       "______________________________________________________________________\n",
       "Conv2d               [256, 32, 32]        590,080    True      \n",
       "______________________________________________________________________\n",
       "BatchNorm2d          [256, 32, 32]        512        True      \n",
       "______________________________________________________________________\n",
       "ReLU                 [256, 32, 32]        0          False     \n",
       "______________________________________________________________________\n",
       "MaxPool2d            [256, 16, 16]        0          False     \n",
       "______________________________________________________________________\n",
       "Conv2d               [512, 16, 16]        1,180,160  True      \n",
       "______________________________________________________________________\n",
       "BatchNorm2d          [512, 16, 16]        1,024      True      \n",
       "______________________________________________________________________\n",
       "ReLU                 [512, 16, 16]        0          False     \n",
       "______________________________________________________________________\n",
       "Conv2d               [512, 16, 16]        2,359,808  True      \n",
       "______________________________________________________________________\n",
       "BatchNorm2d          [512, 16, 16]        1,024      True      \n",
       "______________________________________________________________________\n",
       "ReLU                 [512, 16, 16]        0          False     \n",
       "______________________________________________________________________\n",
       "Conv2d               [512, 16, 16]        2,359,808  True      \n",
       "______________________________________________________________________\n",
       "BatchNorm2d          [512, 16, 16]        1,024      True      \n",
       "______________________________________________________________________\n",
       "ReLU                 [512, 16, 16]        0          False     \n",
       "______________________________________________________________________\n",
       "MaxPool2d            [512, 8, 8]          0          False     \n",
       "______________________________________________________________________\n",
       "Conv2d               [512, 8, 8]          2,359,808  True      \n",
       "______________________________________________________________________\n",
       "BatchNorm2d          [512, 8, 8]          1,024      True      \n",
       "______________________________________________________________________\n",
       "ReLU                 [512, 8, 8]          0          False     \n",
       "______________________________________________________________________\n",
       "Conv2d               [512, 8, 8]          2,359,808  True      \n",
       "______________________________________________________________________\n",
       "BatchNorm2d          [512, 8, 8]          1,024      True      \n",
       "______________________________________________________________________\n",
       "ReLU                 [512, 8, 8]          0          False     \n",
       "______________________________________________________________________\n",
       "Conv2d               [512, 8, 8]          2,359,808  True      \n",
       "______________________________________________________________________\n",
       "BatchNorm2d          [512, 8, 8]          1,024      True      \n",
       "______________________________________________________________________\n",
       "ReLU                 [512, 8, 8]          0          False     \n",
       "______________________________________________________________________\n",
       "MaxPool2d            [512, 4, 4]          0          False     \n",
       "______________________________________________________________________\n",
       "AdaptiveAvgPool2d    [512, 7, 7]          0          False     \n",
       "______________________________________________________________________\n",
       "Linear               [4096]               102,764,544 True      \n",
       "______________________________________________________________________\n",
       "ReLU                 [4096]               0          False     \n",
       "______________________________________________________________________\n",
       "Dropout              [4096]               0          False     \n",
       "______________________________________________________________________\n",
       "Linear               [4096]               16,781,312 True      \n",
       "______________________________________________________________________\n",
       "ReLU                 [4096]               0          False     \n",
       "______________________________________________________________________\n",
       "Dropout              [4096]               0          False     \n",
       "______________________________________________________________________\n",
       "Linear               [10]                 40,970     True      \n",
       "______________________________________________________________________\n",
       "\n",
       "Total params: 134,309,962\n",
       "Total trainable params: 134,309,962\n",
       "Total non-trainable params: 0\n",
       "Optimized with 'torch.optim.adam.Adam', betas=(0.9, 0.99)\n",
       "Using true weight decay as discussed in https://www.fast.ai/2018/07/02/adam-weight-decay/ \n",
       "Loss function : FlattenedLoss\n",
       "======================================================================\n",
       "Callbacks functions applied "
      ]
     },
     "execution_count": 15,
     "metadata": {},
     "output_type": "execute_result"
    }
   ],
   "source": [
    "learn.summary()"
   ]
  },
  {
   "cell_type": "code",
   "execution_count": 16,
   "metadata": {},
   "outputs": [
    {
     "data": {
      "text/plain": [
       "VGG\n",
       "======================================================================\n",
       "Layer (type)         Output Shape         Param #    Trainable \n",
       "======================================================================\n",
       "Conv2d               [45, 128, 128]       1,260      True      \n",
       "______________________________________________________________________\n",
       "BatchNorm2d          [45, 128, 128]       90         True      \n",
       "______________________________________________________________________\n",
       "ReLU                 [45, 128, 128]       0          False     \n",
       "______________________________________________________________________\n",
       "Conv2d               [45, 128, 128]       18,270     True      \n",
       "______________________________________________________________________\n",
       "BatchNorm2d          [45, 128, 128]       90         True      \n",
       "______________________________________________________________________\n",
       "ReLU                 [45, 128, 128]       0          False     \n",
       "______________________________________________________________________\n",
       "MaxPool2d            [45, 64, 64]         0          False     \n",
       "______________________________________________________________________\n",
       "Conv2d               [90, 64, 64]         36,540     True      \n",
       "______________________________________________________________________\n",
       "BatchNorm2d          [90, 64, 64]         180        True      \n",
       "______________________________________________________________________\n",
       "ReLU                 [90, 64, 64]         0          False     \n",
       "______________________________________________________________________\n",
       "Conv2d               [90, 64, 64]         72,990     True      \n",
       "______________________________________________________________________\n",
       "BatchNorm2d          [90, 64, 64]         180        True      \n",
       "______________________________________________________________________\n",
       "ReLU                 [90, 64, 64]         0          False     \n",
       "______________________________________________________________________\n",
       "MaxPool2d            [90, 32, 32]         0          False     \n",
       "______________________________________________________________________\n",
       "Conv2d               [180, 32, 32]        145,980    True      \n",
       "______________________________________________________________________\n",
       "BatchNorm2d          [180, 32, 32]        360        True      \n",
       "______________________________________________________________________\n",
       "ReLU                 [180, 32, 32]        0          False     \n",
       "______________________________________________________________________\n",
       "Conv2d               [180, 32, 32]        291,780    True      \n",
       "______________________________________________________________________\n",
       "BatchNorm2d          [180, 32, 32]        360        True      \n",
       "______________________________________________________________________\n",
       "ReLU                 [180, 32, 32]        0          False     \n",
       "______________________________________________________________________\n",
       "Conv2d               [180, 32, 32]        291,780    True      \n",
       "______________________________________________________________________\n",
       "BatchNorm2d          [180, 32, 32]        360        True      \n",
       "______________________________________________________________________\n",
       "ReLU                 [180, 32, 32]        0          False     \n",
       "______________________________________________________________________\n",
       "MaxPool2d            [180, 16, 16]        0          False     \n",
       "______________________________________________________________________\n",
       "Conv2d               [359, 16, 16]        581,939    True      \n",
       "______________________________________________________________________\n",
       "BatchNorm2d          [359, 16, 16]        718        True      \n",
       "______________________________________________________________________\n",
       "ReLU                 [359, 16, 16]        0          False     \n",
       "______________________________________________________________________\n",
       "Conv2d               [359, 16, 16]        1,160,288  True      \n",
       "______________________________________________________________________\n",
       "BatchNorm2d          [359, 16, 16]        718        True      \n",
       "______________________________________________________________________\n",
       "ReLU                 [359, 16, 16]        0          False     \n",
       "______________________________________________________________________\n",
       "Conv2d               [359, 16, 16]        1,160,288  True      \n",
       "______________________________________________________________________\n",
       "BatchNorm2d          [359, 16, 16]        718        True      \n",
       "______________________________________________________________________\n",
       "ReLU                 [359, 16, 16]        0          False     \n",
       "______________________________________________________________________\n",
       "MaxPool2d            [359, 8, 8]          0          False     \n",
       "______________________________________________________________________\n",
       "Conv2d               [359, 8, 8]          1,160,288  True      \n",
       "______________________________________________________________________\n",
       "BatchNorm2d          [359, 8, 8]          718        True      \n",
       "______________________________________________________________________\n",
       "ReLU                 [359, 8, 8]          0          False     \n",
       "______________________________________________________________________\n",
       "Conv2d               [359, 8, 8]          1,160,288  True      \n",
       "______________________________________________________________________\n",
       "BatchNorm2d          [359, 8, 8]          718        True      \n",
       "______________________________________________________________________\n",
       "ReLU                 [359, 8, 8]          0          False     \n",
       "______________________________________________________________________\n",
       "Conv2d               [359, 8, 8]          1,160,288  True      \n",
       "______________________________________________________________________\n",
       "BatchNorm2d          [359, 8, 8]          718        True      \n",
       "______________________________________________________________________\n",
       "ReLU                 [359, 8, 8]          0          False     \n",
       "______________________________________________________________________\n",
       "MaxPool2d            [359, 4, 4]          0          False     \n",
       "______________________________________________________________________\n",
       "AdaptiveAvgPool2d    [359, 7, 7]          0          False     \n",
       "______________________________________________________________________\n",
       "Linear               [4096]               72,056,832 True      \n",
       "______________________________________________________________________\n",
       "ReLU                 [4096]               0          False     \n",
       "______________________________________________________________________\n",
       "Dropout              [4096]               0          False     \n",
       "______________________________________________________________________\n",
       "Linear               [4096]               16,781,312 True      \n",
       "______________________________________________________________________\n",
       "ReLU                 [4096]               0          False     \n",
       "______________________________________________________________________\n",
       "Dropout              [4096]               0          False     \n",
       "______________________________________________________________________\n",
       "Linear               [10]                 40,970     True      \n",
       "______________________________________________________________________\n",
       "\n",
       "Total params: 96,127,021\n",
       "Total trainable params: 96,127,021\n",
       "Total non-trainable params: 0\n",
       "Optimized with 'torch.optim.adam.Adam', betas=(0.9, 0.99)\n",
       "Using true weight decay as discussed in https://www.fast.ai/2018/07/02/adam-weight-decay/ \n",
       "Loss function : FlattenedLoss\n",
       "======================================================================\n",
       "Callbacks functions applied "
      ]
     },
     "execution_count": 16,
     "metadata": {},
     "output_type": "execute_result"
    }
   ],
   "source": [
    "pruned_learn.summary()"
   ]
  }
 ],
 "metadata": {
  "kernelspec": {
   "display_name": "Python 3",
   "language": "python",
   "name": "python3"
  },
  "language_info": {
   "codemirror_mode": {
    "name": "ipython",
    "version": 3
   },
   "file_extension": ".py",
   "mimetype": "text/x-python",
   "name": "python",
   "nbconvert_exporter": "python",
   "pygments_lexer": "ipython3",
   "version": "3.6.8"
  }
 },
 "nbformat": 4,
 "nbformat_minor": 4
}
